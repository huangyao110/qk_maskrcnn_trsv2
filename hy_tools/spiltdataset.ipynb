{
 "cells": [
  {
   "cell_type": "code",
   "execution_count": 1,
   "outputs": [],
   "source": [
    "import os\n",
    "import numpy\n",
    "import shutil\n",
    "# os.listdir(path=r'C:\\Users\\16477\\Desktop\\qk-dl\\mask_rcnn\\qk_data\\data_dataset_voc\\JPEGImages').sort()"
   ],
   "metadata": {
    "collapsed": false,
    "ExecuteTime": {
     "end_time": "2023-09-03T10:43:25.264739400Z",
     "start_time": "2023-09-03T10:43:25.156250300Z"
    }
   }
  },
  {
   "cell_type": "code",
   "execution_count": 4,
   "outputs": [],
   "source": [
    "def split2valandtrain(ann_path, image_path, val_files, train_files, trainval_files, fraction=0.8, shuffle=True):\n",
    "    ann_list = os.listdir(path=ann_path) # get the list of all the annotation files\n",
    "    image_list = os.listdir(path=image_path) # get the list of all the image files\n",
    "    #ann_list = ann_list.sort() # sort the annotation files\n",
    "    #image_list = image_list.sort() # sort the image files\n",
    "    assert image_list.__len__() == ann_list.__len__(), 'The number of annotation files and image files is not equal!'\n",
    "    num_files = len(ann_list) # get the number of files\n",
    "    # 取前80%作为训练集，后20%作为验证集\n",
    "    train_num = int(num_files * fraction)\n",
    "    val_num = num_files - train_num\n",
    "    if shuffle:\n",
    "        # 生成随机索引\n",
    "        idx = numpy.random.permutation(num_files)\n",
    "        train_idx = idx[:train_num]\n",
    "        val_idx = idx[train_num:]\n",
    "        # 生成训练集和验证集的文件名\n",
    "        train_ann_list = [ann_list[i] for i in train_idx]\n",
    "        train_image_list = [image_list[i] for i in train_idx]\n",
    "        val_ann_list = [ann_list[i] for i in val_idx]\n",
    "        val_image_list = [image_list[i] for i in val_idx]\n",
    "    else:\n",
    "        train_image_list = image_list[:train_num]\n",
    "        val_image_list = image_list[train_num:]\n",
    "    # 保存训练集和验证集的文件名\n",
    "    path = (os.path.dirname(val_files), os.path.dirname(train_files))\n",
    "    for p in path:\n",
    "        if not os.path.exists(p):\n",
    "            os.makedirs(p) \n",
    "    with open(train_files, 'w') as f:\n",
    "        t = [t_name.split('.')[0] for t_name in train_image_list]\n",
    "        for name in t:\n",
    "            f.write(name + '\\n')\n",
    "    with open(val_files, 'w') as f:\n",
    "        v = [v_name.split('.')[0] for v_name in val_image_list]\n",
    "        for name in v:\n",
    "            f.write(name + '\\n')\n",
    "    with open(trainval_files, 'w') as f:\n",
    "        tv = [tv_name.split('.')[0] for tv_name in image_list]\n",
    "        for name in tv:\n",
    "            f.write(name + '\\n')"
   ],
   "metadata": {
    "collapsed": false,
    "ExecuteTime": {
     "end_time": "2023-09-03T10:58:59.846762500Z",
     "start_time": "2023-09-03T10:58:59.842654700Z"
    }
   }
  },
  {
   "cell_type": "code",
   "execution_count": 3,
   "outputs": [
    {
     "ename": "FileNotFoundError",
     "evalue": "[WinError 3] 系统找不到指定的路径。: 'C:\\\\Users\\\\16477\\\\Desktop\\\\qk-dl\\\\mask_rcnn\\\\qk_data\\\\data_dataset_voc\\\\Annotations'",
     "output_type": "error",
     "traceback": [
      "\u001B[1;31m---------------------------------------------------------------------------\u001B[0m",
      "\u001B[1;31mFileNotFoundError\u001B[0m                         Traceback (most recent call last)",
      "Cell \u001B[1;32mIn[3], line 1\u001B[0m\n\u001B[1;32m----> 1\u001B[0m split2valandtrain(ann_path\u001B[38;5;241m=\u001B[39m\u001B[38;5;124mr\u001B[39m\u001B[38;5;124m'\u001B[39m\u001B[38;5;124mC:\u001B[39m\u001B[38;5;124m\\\u001B[39m\u001B[38;5;124mUsers\u001B[39m\u001B[38;5;124m\\\u001B[39m\u001B[38;5;124m16477\u001B[39m\u001B[38;5;124m\\\u001B[39m\u001B[38;5;124mDesktop\u001B[39m\u001B[38;5;124m\\\u001B[39m\u001B[38;5;124mqk-dl\u001B[39m\u001B[38;5;124m\\\u001B[39m\u001B[38;5;124mmask_rcnn\u001B[39m\u001B[38;5;124m\\\u001B[39m\u001B[38;5;124mqk_data\u001B[39m\u001B[38;5;124m\\\u001B[39m\u001B[38;5;124mdata_dataset_voc\u001B[39m\u001B[38;5;124m\\\u001B[39m\u001B[38;5;124mAnnotations\u001B[39m\u001B[38;5;124m'\u001B[39m,\n\u001B[0;32m      2\u001B[0m                   image_path\u001B[38;5;241m=\u001B[39m\u001B[38;5;124mr\u001B[39m\u001B[38;5;124m'\u001B[39m\u001B[38;5;124mC:\u001B[39m\u001B[38;5;124m\\\u001B[39m\u001B[38;5;124mUsers\u001B[39m\u001B[38;5;124m\\\u001B[39m\u001B[38;5;124m16477\u001B[39m\u001B[38;5;124m\\\u001B[39m\u001B[38;5;124mDesktop\u001B[39m\u001B[38;5;124m\\\u001B[39m\u001B[38;5;124mqk-dl\u001B[39m\u001B[38;5;124m\\\u001B[39m\u001B[38;5;124mmask_rcnn\u001B[39m\u001B[38;5;124m\\\u001B[39m\u001B[38;5;124mqk_data\u001B[39m\u001B[38;5;124m\\\u001B[39m\u001B[38;5;124mdata_dataset_voc\u001B[39m\u001B[38;5;124m\\\u001B[39m\u001B[38;5;124mJPEGImages\u001B[39m\u001B[38;5;124m'\u001B[39m,\n\u001B[0;32m      3\u001B[0m                     val_files\u001B[38;5;241m=\u001B[39m\u001B[38;5;124mr\u001B[39m\u001B[38;5;124m'\u001B[39m\u001B[38;5;124mC:\u001B[39m\u001B[38;5;124m\\\u001B[39m\u001B[38;5;124mUsers\u001B[39m\u001B[38;5;124m\\\u001B[39m\u001B[38;5;124m16477\u001B[39m\u001B[38;5;124m\\\u001B[39m\u001B[38;5;124mDesktop\u001B[39m\u001B[38;5;124m\\\u001B[39m\u001B[38;5;124mqk-dl\u001B[39m\u001B[38;5;124m\\\u001B[39m\u001B[38;5;124mmask_rcnn\u001B[39m\u001B[38;5;124m\\\u001B[39m\u001B[38;5;124mqk_data\u001B[39m\u001B[38;5;124m\\\u001B[39m\u001B[38;5;124mdata_dataset_voc\u001B[39m\u001B[38;5;124m\\\u001B[39m\u001B[38;5;124mImageSets\u001B[39m\u001B[38;5;124m\\\u001B[39m\u001B[38;5;124mSegmentation\u001B[39m\u001B[38;5;124m\\\u001B[39m\u001B[38;5;124mval.txt\u001B[39m\u001B[38;5;124m'\u001B[39m,\n\u001B[0;32m      4\u001B[0m                     train_files\u001B[38;5;241m=\u001B[39m\u001B[38;5;124mr\u001B[39m\u001B[38;5;124m'\u001B[39m\u001B[38;5;124mC:\u001B[39m\u001B[38;5;124m\\\u001B[39m\u001B[38;5;124mUsers\u001B[39m\u001B[38;5;124m\\\u001B[39m\u001B[38;5;124m16477\u001B[39m\u001B[38;5;124m\\\u001B[39m\u001B[38;5;124mDesktop\u001B[39m\u001B[38;5;124m\\\u001B[39m\u001B[38;5;124mqk-dl\u001B[39m\u001B[38;5;124m\\\u001B[39m\u001B[38;5;124mmask_rcnn\u001B[39m\u001B[38;5;124m\\\u001B[39m\u001B[38;5;124mqk_data\u001B[39m\u001B[38;5;124m\\\u001B[39m\u001B[38;5;124mdata_dataset_voc\u001B[39m\u001B[38;5;124m\\\u001B[39m\u001B[38;5;124mImageSets\u001B[39m\u001B[38;5;124m\\\u001B[39m\u001B[38;5;124mSegmentation\u001B[39m\u001B[38;5;124m\\\u001B[39m\u001B[38;5;124mtrain.txt\u001B[39m\u001B[38;5;124m'\u001B[39m,\n\u001B[0;32m      5\u001B[0m                     trainval_files\u001B[38;5;241m=\u001B[39m\u001B[38;5;124mr\u001B[39m\u001B[38;5;124m'\u001B[39m\u001B[38;5;124mC:\u001B[39m\u001B[38;5;124m\\\u001B[39m\u001B[38;5;124mUsers\u001B[39m\u001B[38;5;124m\\\u001B[39m\u001B[38;5;124m16477\u001B[39m\u001B[38;5;124m\\\u001B[39m\u001B[38;5;124mDesktop\u001B[39m\u001B[38;5;124m\\\u001B[39m\u001B[38;5;124mqk-dl\u001B[39m\u001B[38;5;124m\\\u001B[39m\u001B[38;5;124mmask_rcnn\u001B[39m\u001B[38;5;124m\\\u001B[39m\u001B[38;5;124mqk_data\u001B[39m\u001B[38;5;124m\\\u001B[39m\u001B[38;5;124mdata_dataset_voc\u001B[39m\u001B[38;5;124m\\\u001B[39m\u001B[38;5;124mImageSets\u001B[39m\u001B[38;5;124m\\\u001B[39m\u001B[38;5;124mSegmentation\u001B[39m\u001B[38;5;124m\\\u001B[39m\u001B[38;5;124mtrainval.txt\u001B[39m\u001B[38;5;124m'\u001B[39m)\n",
      "Cell \u001B[1;32mIn[2], line 2\u001B[0m, in \u001B[0;36msplit2valandtrain\u001B[1;34m(ann_path, image_path, val_files, train_files, trainval_files, fraction, shuffle)\u001B[0m\n\u001B[0;32m      1\u001B[0m \u001B[38;5;28;01mdef\u001B[39;00m \u001B[38;5;21msplit2valandtrain\u001B[39m(ann_path, image_path, val_files, train_files, trainval_files, fraction\u001B[38;5;241m=\u001B[39m\u001B[38;5;241m0.8\u001B[39m, shuffle\u001B[38;5;241m=\u001B[39m\u001B[38;5;28;01mTrue\u001B[39;00m):\n\u001B[1;32m----> 2\u001B[0m     ann_list \u001B[38;5;241m=\u001B[39m os\u001B[38;5;241m.\u001B[39mlistdir(path\u001B[38;5;241m=\u001B[39mann_path) \u001B[38;5;66;03m# get the list of all the annotation files\u001B[39;00m\n\u001B[0;32m      3\u001B[0m     image_list \u001B[38;5;241m=\u001B[39m os\u001B[38;5;241m.\u001B[39mlistdir(path\u001B[38;5;241m=\u001B[39mimage_path) \u001B[38;5;66;03m# get the list of all the image files\u001B[39;00m\n\u001B[0;32m      4\u001B[0m     \u001B[38;5;66;03m#ann_list = ann_list.sort() # sort the annotation files\u001B[39;00m\n\u001B[0;32m      5\u001B[0m     \u001B[38;5;66;03m#image_list = image_list.sort() # sort the image files\u001B[39;00m\n",
      "\u001B[1;31mFileNotFoundError\u001B[0m: [WinError 3] 系统找不到指定的路径。: 'C:\\\\Users\\\\16477\\\\Desktop\\\\qk-dl\\\\mask_rcnn\\\\qk_data\\\\data_dataset_voc\\\\Annotations'"
     ]
    }
   ],
   "source": [
    "split2valandtrain(ann_path=r'C:\\Users\\16477\\Desktop\\qk-dl\\mask_rcnn\\qk_data\\data_dataset_voc\\Annotations',\n",
    "                  image_path=r'C:\\Users\\16477\\Desktop\\qk-dl\\mask_rcnn\\qk_data\\data_dataset_voc\\JPEGImages',\n",
    "                    val_files=r'C:\\Users\\16477\\Desktop\\qk-dl\\mask_rcnn\\qk_data\\data_dataset_voc\\ImageSets\\Segmentation\\val.txt',\n",
    "                    train_files=r'C:\\Users\\16477\\Desktop\\qk-dl\\mask_rcnn\\qk_data\\data_dataset_voc\\ImageSets\\Segmentation\\train.txt',\n",
    "                    trainval_files=r'C:\\Users\\16477\\Desktop\\qk-dl\\mask_rcnn\\qk_data\\data_dataset_voc\\ImageSets\\Segmentation\\trainval.txt')"
   ],
   "metadata": {
    "collapsed": false,
    "ExecuteTime": {
     "end_time": "2023-09-03T10:43:25.879166800Z",
     "start_time": "2023-09-03T10:43:25.273939400Z"
    }
   }
  },
  {
   "cell_type": "code",
   "execution_count": 5,
   "outputs": [],
   "source": [
    "def spiltcocodataset(images_path, train_path, val_path, trainval_path, \n",
    "                     fraction=.7, shuffle=True, is_split_ann=True,\n",
    "                     train_ann_path=None, val_ann_path=None, trainval_ann_path=None):\n",
    "    images_list = os.listdir(path=images_path)\n",
    "    jpg_list = []\n",
    "    train_ann = []\n",
    "    val_ann = []\n",
    "    trainval_ann = []\n",
    "    for file in images_list:\n",
    "        if file.endswith('.jpg'):\n",
    "            jpg_list.append(file)\n",
    "    print(jpg_list)\n",
    "    num_files = len(jpg_list)\n",
    "    train_num = int(num_files * fraction)\n",
    "    if shuffle:\n",
    "        idx = numpy.random.permutation(num_files)\n",
    "        train_idx = idx[:train_num]\n",
    "        val_idx = idx[train_num:]\n",
    "        train_list = [jpg_list[i] for i in train_idx]\n",
    "        val_list = [jpg_list[i] for i in val_idx]\n",
    "    else:\n",
    "        train_list = jpg_list[:train_num]\n",
    "        val_list = jpg_list[train_num:]\n",
    "    path = (os.path.dirname(train_path), os.path.dirname(val_path), os.path.dirname(trainval_path))\n",
    "    if is_split_ann:\n",
    "        for tf in train_list:\n",
    "            tf_name = tf.split('.')[0]\n",
    "            tf_str = tf_name + '.json'\n",
    "            train_ann.append(tf_str)\n",
    "        for vf in val_list:\n",
    "            vf_name = vf.split('.')[0]\n",
    "            vf_str = vf_name + '.json'\n",
    "            val_ann.append(vf_str)\n",
    "        for jf in jpg_list:\n",
    "            jf_name = jf.split('.')[0]\n",
    "            jf_str = jf_name + '.json'\n",
    "            trainval_ann.append(jf_str)\n",
    "    for p in path:\n",
    "        if not os.path.exists(p):\n",
    "            os.makedirs(p)\n",
    "    with open(train_path, 'w') as f:\n",
    "        for name in train_list:\n",
    "            f.write(name + '\\n')\n",
    "    with open(val_path, 'w') as f:\n",
    "        for name in val_list:\n",
    "            f.write(name + '\\n')\n",
    "    with open(trainval_path, 'w') as f:\n",
    "        for name in jpg_list:\n",
    "            f.write(name + '\\n')\n",
    "    if is_split_ann:\n",
    "        path_ann = (os.path.dirname(train_ann_path), os.path.dirname(val_ann_path), os.path.dirname(trainval_ann_path))\n",
    "        for p in path_ann:\n",
    "            if not os.path.exists(p):\n",
    "                os.makedirs(p)\n",
    "        with open(train_ann_path, 'w') as f:\n",
    "            for name in train_ann:\n",
    "                f.write(name + '\\n')\n",
    "        with open(val_ann_path, 'w') as f:\n",
    "            for name in val_ann:\n",
    "                f.write(name + '\\n')\n",
    "        with open(trainval_ann_path, 'w') as f:\n",
    "            for name in trainval_ann:\n",
    "                f.write(name + '\\n')\n",
    "        \n",
    "        "
   ],
   "metadata": {
    "collapsed": false,
    "ExecuteTime": {
     "end_time": "2023-09-03T11:06:23.752847600Z",
     "start_time": "2023-09-03T11:06:23.750837900Z"
    }
   }
  },
  {
   "cell_type": "code",
   "execution_count": 7,
   "outputs": [
    {
     "name": "stdout",
     "output_type": "stream",
     "text": [
      "C:\\Users\\byx\\Desktop\\qk_maskrcnn_trs\\hy_tools\n",
      "C:\\Users\\byx\\Desktop\\qk_maskrcnn_trs\n"
     ]
    }
   ],
   "source": [
    "print(os.getcwd())\n",
    "os.chdir(r'C:\\Users\\byx\\Desktop\\qk_maskrcnn_trs')\n",
    "print(os.getcwd())"
   ],
   "metadata": {
    "collapsed": false,
    "ExecuteTime": {
     "end_time": "2023-09-03T11:06:54.069762300Z",
     "start_time": "2023-09-03T11:06:54.063251300Z"
    }
   }
  },
  {
   "cell_type": "code",
   "execution_count": 8,
   "outputs": [
    {
     "name": "stdout",
     "output_type": "stream",
     "text": [
      "['Dn1.jpg', 'Dn10.jpg', 'Dn100.jpg', 'Dn101.jpg', 'Dn102.jpg', 'Dn103.jpg', 'Dn104.jpg', 'Dn105.jpg', 'Dn106.jpg', 'Dn107.jpg', 'Dn108.jpg', 'Dn109.jpg', 'Dn11.jpg', 'Dn110.jpg', 'Dn111.jpg', 'Dn112.jpg', 'Dn113.jpg', 'Dn114.jpg', 'Dn115.jpg', 'Dn116.jpg', 'Dn117.jpg', 'Dn118.jpg', 'Dn119.jpg', 'Dn12.jpg', 'Dn120.jpg', 'Dn121.jpg', 'Dn122.jpg', 'Dn123.jpg', 'Dn124.jpg', 'Dn125.jpg', 'Dn126.jpg', 'Dn127.jpg', 'Dn128.jpg', 'Dn129.jpg', 'Dn13.jpg', 'Dn130.jpg', 'Dn131.jpg', 'Dn132.jpg', 'Dn133.jpg', 'Dn134.jpg', 'Dn135.jpg', 'Dn136.jpg', 'Dn137.jpg', 'Dn138.jpg', 'Dn139.jpg', 'Dn14.jpg', 'Dn140.jpg', 'Dn141.jpg', 'Dn142.jpg', 'Dn143.jpg', 'Dn144.jpg', 'Dn145.jpg', 'Dn146.jpg', 'Dn147.jpg', 'Dn148.jpg', 'Dn149.jpg', 'Dn15.jpg', 'Dn150.jpg', 'Dn151.jpg', 'Dn152.jpg', 'Dn153.jpg', 'Dn154.jpg', 'Dn155.jpg', 'Dn156.jpg', 'Dn157.jpg', 'Dn158.jpg', 'Dn159.jpg', 'Dn16.jpg', 'Dn160.jpg', 'Dn161.jpg', 'Dn162.jpg', 'Dn163.jpg', 'Dn164.jpg', 'Dn165.jpg', 'Dn166.jpg', 'Dn167.jpg', 'Dn168.jpg', 'Dn169.jpg', 'Dn17.jpg', 'Dn170.jpg', 'Dn171.jpg', 'Dn172.jpg', 'Dn173.jpg', 'Dn174.jpg', 'Dn175.jpg', 'Dn176.jpg', 'Dn177.jpg', 'Dn178.jpg', 'Dn179.jpg', 'Dn18.jpg', 'Dn180.jpg', 'Dn181.jpg', 'Dn182.jpg', 'Dn183.jpg', 'Dn184.jpg', 'Dn185.jpg', 'Dn186.jpg', 'Dn187.jpg', 'Dn188.jpg', 'Dn189.jpg', 'Dn19.jpg', 'Dn190.jpg', 'Dn191.jpg', 'Dn192.jpg', 'Dn193.jpg', 'Dn194.jpg', 'Dn195.jpg', 'Dn196.jpg', 'Dn197.jpg', 'Dn198.jpg', 'Dn199.jpg', 'Dn2.jpg', 'Dn20.jpg', 'Dn200.jpg', 'Dn201.jpg', 'Dn202.jpg', 'Dn203.jpg', 'Dn204.jpg', 'Dn205.jpg', 'Dn206.jpg', 'Dn207.jpg', 'Dn208.jpg', 'Dn209.jpg', 'Dn21.jpg', 'Dn210.jpg', 'Dn211.jpg', 'Dn212.jpg', 'Dn213.jpg', 'Dn214.jpg', 'Dn215.jpg', 'Dn216.jpg', 'Dn217.jpg', 'Dn218.jpg', 'Dn219.jpg', 'Dn22.jpg', 'Dn220.jpg', 'Dn221.jpg', 'Dn222.jpg', 'Dn223.jpg', 'Dn224.jpg', 'Dn225.jpg', 'Dn226.jpg', 'Dn227.jpg', 'Dn228.jpg', 'Dn229.jpg', 'Dn23.jpg', 'Dn230.jpg', 'Dn231.jpg', 'Dn232.jpg', 'Dn233.jpg', 'Dn234.jpg', 'Dn235.jpg', 'Dn236.jpg', 'Dn237.jpg', 'Dn238.jpg', 'Dn239.jpg', 'Dn24.jpg', 'Dn240.jpg', 'Dn241.jpg', 'Dn242.jpg', 'Dn243.jpg', 'Dn244.jpg', 'Dn245.jpg', 'Dn246.jpg', 'Dn247.jpg', 'Dn248.jpg', 'Dn249.jpg', 'Dn25.jpg', 'Dn250.jpg', 'Dn251.jpg', 'Dn252.jpg', 'Dn253.jpg', 'Dn254.jpg', 'Dn255.jpg', 'Dn256.jpg', 'Dn257.jpg', 'Dn258.jpg', 'Dn259.jpg', 'Dn26.jpg', 'Dn260.jpg', 'Dn261.jpg', 'Dn262.jpg', 'Dn263.jpg', 'Dn264.jpg', 'Dn265.jpg', 'Dn266.jpg', 'Dn267.jpg', 'Dn268.jpg', 'Dn269.jpg', 'Dn27.jpg', 'Dn270.jpg', 'Dn271.jpg', 'Dn272.jpg', 'Dn273.jpg', 'Dn274.jpg', 'Dn275.jpg', 'Dn276.jpg', 'Dn277.jpg', 'Dn278.jpg', 'Dn279.jpg', 'Dn28.jpg', 'Dn280.jpg', 'Dn281.jpg', 'Dn282.jpg', 'Dn283.jpg', 'Dn284.jpg', 'Dn285.jpg', 'Dn286.jpg', 'Dn287.jpg', 'Dn288.jpg', 'Dn289.jpg', 'Dn29.jpg', 'Dn290.jpg', 'Dn291.jpg', 'Dn292.jpg', 'Dn293.jpg', 'Dn294.jpg', 'Dn295.jpg', 'Dn296.jpg', 'Dn297.jpg', 'Dn298.jpg', 'Dn299.jpg', 'Dn3.jpg', 'Dn30.jpg', 'Dn300.jpg', 'Dn301.jpg', 'Dn302.jpg', 'Dn303.jpg', 'Dn304.jpg', 'Dn305.jpg', 'Dn306.jpg', 'Dn307.jpg', 'Dn308.jpg', 'Dn309.jpg', 'Dn31.jpg', 'Dn310.jpg', 'Dn311.jpg', 'Dn312.jpg', 'Dn313.jpg', 'Dn314.jpg', 'Dn315.jpg', 'Dn316.jpg', 'Dn317.jpg', 'Dn318.jpg', 'Dn319.jpg', 'Dn32.jpg', 'Dn320.jpg', 'Dn321.jpg', 'Dn322.jpg', 'Dn323.jpg', 'Dn324.jpg', 'Dn325.jpg', 'Dn326.jpg', 'Dn327.jpg', 'Dn328.jpg', 'Dn329.jpg', 'Dn33.jpg', 'Dn330.jpg', 'Dn331.jpg', 'Dn332.jpg', 'Dn333.jpg', 'Dn334.jpg', 'Dn335.jpg', 'Dn336.jpg', 'Dn337.jpg', 'Dn338.jpg', 'Dn339.jpg', 'Dn34.jpg', 'Dn340.jpg', 'Dn341.jpg', 'Dn342.jpg', 'Dn343.jpg', 'Dn344.jpg', 'Dn345.jpg', 'Dn346.jpg', 'Dn347.jpg', 'Dn348.jpg', 'Dn349.jpg', 'Dn35.jpg', 'Dn350.jpg', 'Dn351.jpg', 'Dn352.jpg', 'Dn353.jpg', 'Dn354.jpg', 'Dn355.jpg', 'Dn356.jpg', 'Dn357.jpg', 'Dn358.jpg', 'Dn359.jpg', 'Dn36.jpg', 'Dn360.jpg', 'Dn361.jpg', 'Dn362.jpg', 'Dn363.jpg', 'Dn364.jpg', 'Dn365.jpg', 'Dn366.jpg', 'Dn367.jpg', 'Dn368.jpg', 'Dn369.jpg', 'Dn37.jpg', 'Dn370.jpg', 'Dn371.jpg', 'Dn372.jpg', 'Dn373.jpg', 'Dn374.jpg', 'Dn375.jpg', 'Dn376.jpg', 'Dn377.jpg', 'Dn378.jpg', 'Dn379.jpg', 'Dn38.jpg', 'Dn380.jpg', 'Dn381.jpg', 'Dn382.jpg', 'Dn383.jpg', 'Dn384.jpg', 'Dn385.jpg', 'Dn386.jpg', 'Dn387.jpg', 'Dn388.jpg', 'Dn389.jpg', 'Dn39.jpg', 'Dn390.jpg', 'Dn391.jpg', 'Dn392.jpg', 'Dn393.jpg', 'Dn394.jpg', 'Dn395.jpg', 'Dn396.jpg', 'Dn397.jpg', 'Dn398.jpg', 'Dn399.jpg', 'Dn4.jpg', 'Dn40.jpg', 'Dn400.jpg', 'Dn401.jpg', 'Dn402.jpg', 'Dn403.jpg', 'Dn404.jpg', 'Dn405.jpg', 'Dn406.jpg', 'Dn407.jpg', 'Dn408.jpg', 'Dn409.jpg', 'Dn41.jpg', 'Dn410.jpg', 'Dn411.jpg', 'Dn412.jpg', 'Dn413.jpg', 'Dn414.jpg', 'Dn415.jpg', 'Dn416.jpg', 'Dn417.jpg', 'Dn418.jpg', 'Dn419.jpg', 'Dn42.jpg', 'Dn420.jpg', 'Dn421.jpg', 'Dn422.jpg', 'Dn423.jpg', 'Dn424.jpg', 'Dn425.jpg', 'Dn426.jpg', 'Dn427.jpg', 'Dn428.jpg', 'Dn429.jpg', 'Dn43.jpg', 'Dn430.jpg', 'Dn431.jpg', 'Dn432.jpg', 'Dn433.jpg', 'Dn434.jpg', 'Dn435.jpg', 'Dn436.jpg', 'Dn437.jpg', 'Dn438.jpg', 'Dn439.jpg', 'Dn44.jpg', 'Dn440.jpg', 'Dn441.jpg', 'Dn442.jpg', 'Dn443.jpg', 'Dn444.jpg', 'Dn445.jpg', 'Dn446.jpg', 'Dn447.jpg', 'Dn448.jpg', 'Dn449.jpg', 'Dn45.jpg', 'Dn450.jpg', 'Dn451.jpg', 'Dn452.jpg', 'Dn453.jpg', 'Dn454.jpg', 'Dn455.jpg', 'Dn456.jpg', 'Dn457.jpg', 'Dn458.jpg', 'Dn459.jpg', 'Dn46.jpg', 'Dn460.jpg', 'Dn461.jpg', 'Dn462.jpg', 'Dn463.jpg', 'Dn464.jpg', 'Dn465.jpg', 'Dn466.jpg', 'Dn467.jpg', 'Dn468.jpg', 'Dn469.jpg', 'Dn47.jpg', 'Dn470.jpg', 'Dn471.jpg', 'Dn472.jpg', 'Dn473.jpg', 'Dn474.jpg', 'Dn475.jpg', 'Dn476.jpg', 'Dn477.jpg', 'Dn478.jpg', 'Dn479.jpg', 'Dn48.jpg', 'Dn480.jpg', 'Dn481.jpg', 'Dn482.jpg', 'Dn483.jpg', 'Dn484.jpg', 'Dn485.jpg', 'Dn486.jpg', 'Dn487.jpg', 'Dn488.jpg', 'Dn489.jpg', 'Dn49.jpg', 'Dn490.jpg', 'Dn491.jpg', 'Dn492.jpg', 'Dn493.jpg', 'Dn494.jpg', 'Dn495.jpg', 'Dn496.jpg', 'Dn497.jpg', 'Dn498.jpg', 'Dn499.jpg', 'Dn5.jpg', 'Dn50.jpg', 'Dn500.jpg', 'Dn501.jpg', 'Dn502.jpg', 'Dn503.jpg', 'Dn504.jpg', 'Dn505.jpg', 'Dn506.jpg', 'Dn507.jpg', 'Dn508.jpg', 'Dn509.jpg', 'Dn51.jpg', 'Dn510.jpg', 'Dn511.jpg', 'Dn512.jpg', 'Dn513.jpg', 'Dn514.jpg', 'Dn515.jpg', 'Dn516.jpg', 'Dn517.jpg', 'Dn518.jpg', 'Dn519.jpg', 'Dn52.jpg', 'Dn520.jpg', 'Dn521.jpg', 'Dn522.jpg', 'Dn523.jpg', 'Dn524.jpg', 'Dn525.jpg', 'Dn526.jpg', 'Dn527.jpg', 'Dn528.jpg', 'Dn529.jpg', 'Dn53.jpg', 'Dn530.jpg', 'Dn531.jpg', 'Dn532.jpg', 'Dn533.jpg', 'Dn534.jpg', 'Dn535.jpg', 'Dn536.jpg', 'Dn537.jpg', 'Dn538.jpg', 'Dn539.jpg', 'Dn54.jpg', 'Dn540.jpg', 'Dn541.jpg', 'Dn542.jpg', 'Dn543.jpg', 'Dn544.jpg', 'Dn545.jpg', 'Dn546.jpg', 'Dn547.jpg', 'Dn548.jpg', 'Dn549.jpg', 'Dn55.jpg', 'Dn550.jpg', 'Dn551.jpg', 'Dn552.jpg', 'Dn553.jpg', 'Dn554.jpg', 'Dn555.jpg', 'Dn556.jpg', 'Dn557.jpg', 'Dn558.jpg', 'Dn559.jpg', 'Dn56.jpg', 'Dn560.jpg', 'Dn561.jpg', 'Dn562.jpg', 'Dn563.jpg', 'Dn564.jpg', 'Dn565.jpg', 'Dn566.jpg', 'Dn567.jpg', 'Dn568.jpg', 'Dn569.jpg', 'Dn57.jpg', 'Dn570.jpg', 'Dn571.jpg', 'Dn572.jpg', 'Dn573.jpg', 'Dn574.jpg', 'Dn575.jpg', 'Dn576.jpg', 'Dn577.jpg', 'Dn578.jpg', 'Dn579.jpg', 'Dn58.jpg', 'Dn580.jpg', 'Dn581.jpg', 'Dn582.jpg', 'Dn583.jpg', 'Dn584.jpg', 'Dn585.jpg', 'Dn586.jpg', 'Dn587.jpg', 'Dn588.jpg', 'Dn589.jpg', 'Dn59.jpg', 'Dn590.jpg', 'Dn591.jpg', 'Dn592.jpg', 'Dn593.jpg', 'Dn594.jpg', 'Dn595.jpg', 'Dn596.jpg', 'Dn597.jpg', 'Dn598.jpg', 'Dn599.jpg', 'Dn6.jpg', 'Dn60.jpg', 'Dn600.jpg', 'Dn601.jpg', 'Dn602.jpg', 'Dn603.jpg', 'Dn604.jpg', 'Dn605.jpg', 'Dn606.jpg', 'Dn607.jpg', 'Dn608.jpg', 'Dn609.jpg', 'Dn61.jpg', 'Dn610.jpg', 'Dn611.jpg', 'Dn612.jpg', 'Dn613.jpg', 'Dn614.jpg', 'Dn615.jpg', 'Dn616.jpg', 'Dn617.jpg', 'Dn618.jpg', 'Dn619.jpg', 'Dn62.jpg', 'Dn620.jpg', 'Dn621.jpg', 'Dn622.jpg', 'Dn623.jpg', 'Dn624.jpg', 'Dn625.jpg', 'Dn626.jpg', 'Dn627.jpg', 'Dn628.jpg', 'Dn629.jpg', 'Dn63.jpg', 'Dn630.jpg', 'Dn631.jpg', 'Dn632.jpg', 'Dn633.jpg', 'Dn634.jpg', 'Dn635.jpg', 'Dn636.jpg', 'Dn637.jpg', 'Dn638.jpg', 'Dn639.jpg', 'Dn64.jpg', 'Dn640.jpg', 'Dn641.jpg', 'Dn642.jpg', 'Dn643.jpg', 'Dn644.jpg', 'Dn645.jpg', 'Dn646.jpg', 'Dn647.jpg', 'Dn648.jpg', 'Dn649.jpg', 'Dn65.jpg', 'Dn650.jpg', 'Dn651.jpg', 'Dn652.jpg', 'Dn653.jpg', 'Dn654.jpg', 'Dn655.jpg', 'Dn656.jpg', 'Dn657.jpg', 'Dn658.jpg', 'Dn659.jpg', 'Dn66.jpg', 'Dn660.jpg', 'Dn661.jpg', 'Dn662.jpg', 'Dn663.jpg', 'Dn664.jpg', 'Dn665.jpg', 'Dn666.jpg', 'Dn667.jpg', 'Dn668.jpg', 'Dn669.jpg', 'Dn67.jpg', 'Dn670.jpg', 'Dn671.jpg', 'Dn672.jpg', 'Dn673.jpg', 'Dn674.jpg', 'Dn675.jpg', 'Dn676.jpg', 'Dn677.jpg', 'Dn678.jpg', 'Dn679.jpg', 'Dn68.jpg', 'Dn680.jpg', 'Dn681.jpg', 'Dn682.jpg', 'Dn683.jpg', 'Dn684.jpg', 'Dn685.jpg', 'Dn686.jpg', 'Dn687.jpg', 'Dn688.jpg', 'Dn689.jpg', 'Dn69.jpg', 'Dn690.jpg', 'Dn691.jpg', 'Dn692.jpg', 'Dn693.jpg', 'Dn694.jpg', 'Dn695.jpg', 'Dn696.jpg', 'Dn697.jpg', 'Dn698.jpg', 'Dn699.jpg', 'Dn7.jpg', 'Dn70.jpg', 'Dn700.jpg', 'Dn701.jpg', 'Dn702.jpg', 'Dn703.jpg', 'Dn704.jpg', 'Dn705.jpg', 'Dn706.jpg', 'Dn707.jpg', 'Dn708.jpg', 'Dn709.jpg', 'Dn71.jpg', 'Dn710.jpg', 'Dn711.jpg', 'Dn712.jpg', 'Dn713.jpg', 'Dn714.jpg', 'Dn715.jpg', 'Dn716.jpg', 'Dn717.jpg', 'Dn718.jpg', 'Dn719.jpg', 'Dn72.jpg', 'Dn720.jpg', 'Dn721.jpg', 'Dn722.jpg', 'Dn723.jpg', 'Dn724.jpg', 'Dn725.jpg', 'Dn726.jpg', 'Dn727.jpg', 'Dn728.jpg', 'Dn729.jpg', 'Dn73.jpg', 'Dn730.jpg', 'Dn731.jpg', 'Dn732.jpg', 'Dn733.jpg', 'Dn734.jpg', 'Dn735.jpg', 'Dn736.jpg', 'Dn737.jpg', 'Dn738.jpg', 'Dn739.jpg', 'Dn74.jpg', 'Dn740.jpg', 'Dn741.jpg', 'Dn742.jpg', 'Dn743.jpg', 'Dn744.jpg', 'Dn745.jpg', 'Dn746.jpg', 'Dn747.jpg', 'Dn748.jpg', 'Dn749.jpg', 'Dn75.jpg', 'Dn750.jpg', 'Dn751.jpg', 'Dn752.jpg', 'Dn753.jpg', 'Dn754.jpg', 'Dn755.jpg', 'Dn756.jpg', 'Dn757.jpg', 'Dn758.jpg', 'Dn759.jpg', 'Dn76.jpg', 'Dn760.jpg', 'Dn761.jpg', 'Dn762.jpg', 'Dn763.jpg', 'Dn764.jpg', 'Dn765.jpg', 'Dn766.jpg', 'Dn767.jpg', 'Dn768.jpg', 'Dn769.jpg', 'Dn77.jpg', 'Dn770.jpg', 'Dn771.jpg', 'Dn772.jpg', 'Dn773.jpg', 'Dn774.jpg', 'Dn775.jpg', 'Dn776.jpg', 'Dn777.jpg', 'Dn778.jpg', 'Dn779.jpg', 'Dn78.jpg', 'Dn780.jpg', 'Dn781.jpg', 'Dn782.jpg', 'Dn783.jpg', 'Dn784.jpg', 'Dn785.jpg', 'Dn786.jpg', 'Dn787.jpg', 'Dn788.jpg', 'Dn789.jpg', 'Dn79.jpg', 'Dn790.jpg', 'Dn791.jpg', 'Dn792.jpg', 'Dn793.jpg', 'Dn794.jpg', 'Dn795.jpg', 'Dn796.jpg', 'Dn797.jpg', 'Dn798.jpg', 'Dn799.jpg', 'Dn8.jpg', 'Dn80.jpg', 'Dn800.jpg', 'Dn801.jpg', 'Dn81.jpg', 'Dn82.jpg', 'Dn83.jpg', 'Dn84.jpg', 'Dn85.jpg', 'Dn86.jpg', 'Dn87.jpg', 'Dn88.jpg', 'Dn89.jpg', 'Dn9.jpg', 'Dn90.jpg', 'Dn91.jpg', 'Dn92.jpg', 'Dn93.jpg', 'Dn94.jpg', 'Dn95.jpg', 'Dn96.jpg', 'Dn97.jpg', 'Dn98.jpg', 'Dn99.jpg', 'n0.jpg', 'n1.jpg', 'n10.jpg', 'n102.jpg', 'n103.jpg', 'n104.jpg', 'n105.jpg', 'n106.jpg', 'n107.jpg', 'n108.jpg', 'n109.jpg', 'n11.jpg', 'n110.jpg', 'n111.jpg', 'n112.jpg', 'n113.jpg', 'n114.jpg', 'n115.jpg', 'n116.jpg', 'n117.jpg', 'n118.jpg', 'n119.jpg', 'n12.jpg', 'n120.jpg', 'n121.jpg', 'n122.jpg', 'n123.jpg', 'n124.jpg', 'n125.jpg', 'n126.jpg', 'n127.jpg', 'n128.jpg', 'n129.jpg', 'n13.jpg', 'n130.jpg', 'n131.jpg', 'n132.jpg', 'n133.jpg', 'n134.jpg', 'n135.jpg', 'n136.jpg', 'n137.jpg', 'n138.jpg', 'n139.jpg', 'n14.jpg', 'n140.jpg', 'n141.jpg', 'n142.jpg', 'n143.jpg', 'n144.jpg', 'n145.jpg', 'n146.jpg', 'n147.jpg', 'n148.jpg', 'n149.jpg', 'n15.jpg', 'n150.jpg', 'n151.jpg', 'n152.jpg', 'n153.jpg', 'n154.jpg', 'n155.jpg', 'n156.jpg', 'n157.jpg', 'n158.jpg', 'n159.jpg', 'n16.jpg', 'n160.jpg', 'n161.jpg', 'n165.jpg', 'n166.jpg', 'n167.jpg', 'n168.jpg', 'n169.jpg', 'n17.jpg', 'n170.jpg', 'n171.jpg', 'n172.jpg', 'n173.jpg', 'n174.jpg', 'n175.jpg', 'n176.jpg', 'n18.jpg', 'n180.jpg', 'n181.jpg', 'n182.jpg', 'n183.jpg', 'n184.jpg', 'n185.jpg', 'n186.jpg', 'n187.jpg', 'n188.jpg', 'n189.jpg', 'n19.jpg', 'n190.jpg', 'n191.jpg', 'n192.jpg', 'n193.jpg', 'n194.jpg', 'n195.jpg', 'n196.jpg', 'n197.jpg', 'n198.jpg', 'n199.jpg', 'n2.jpg', 'n20.jpg', 'n200.jpg', 'n201.jpg', 'n202.jpg', 'n203.jpg', 'n204.jpg', 'n205.jpg', 'n206.jpg', 'n207.jpg', 'n208.jpg', 'n209.jpg', 'n21.jpg', 'n210.jpg', 'n211.jpg', 'n212.jpg', 'n213.jpg', 'n214.jpg', 'n215.jpg', 'n216.jpg', 'n217.jpg', 'n218.jpg', 'n219.jpg', 'n22.jpg', 'n220.jpg', 'n221.jpg', 'n222.jpg', 'n223.jpg', 'n224.jpg', 'n225.jpg', 'n226.jpg', 'n227.jpg', 'n228.jpg', 'n229.jpg', 'n23.jpg', 'n230.jpg', 'n231.jpg', 'n232.jpg', 'n233.jpg', 'n234.jpg', 'n235.jpg', 'n236.jpg', 'n237.jpg', 'n238.jpg', 'n239.jpg', 'n24.jpg', 'n240.jpg', 'n241.jpg', 'n242.jpg', 'n243.jpg', 'n244.jpg', 'n245.jpg', 'n246.jpg', 'n247.jpg', 'n248.jpg', 'n249.jpg', 'n25.jpg', 'n250.jpg', 'n251.jpg', 'n252.jpg', 'n253.jpg', 'n254.jpg', 'n255.jpg', 'n256.jpg', 'n257.jpg', 'n258.jpg', 'n259.jpg', 'n26.jpg', 'n260.jpg', 'n261.jpg', 'n262.jpg', 'n263.jpg', 'n264.jpg', 'n265.jpg', 'n266.jpg', 'n267.jpg', 'n268.jpg', 'n269.jpg', 'n27.jpg', 'n270.jpg', 'n271.jpg', 'n272.jpg', 'n273.jpg', 'n274.jpg', 'n275.jpg', 'n276.jpg', 'n277.jpg', 'n278.jpg', 'n279.jpg', 'n28.jpg', 'n280.jpg', 'n281.jpg', 'n282.jpg', 'n283.jpg', 'n284.jpg', 'n285.jpg', 'n286.jpg', 'n287.jpg', 'n288.jpg', 'n289.jpg', 'n29.jpg', 'n290.jpg', 'n291.jpg', 'n292.jpg', 'n293.jpg', 'n294.jpg', 'n295.jpg', 'n296.jpg', 'n297.jpg', 'n298.jpg', 'n299.jpg', 'n3.jpg', 'n30.jpg', 'n300.jpg', 'n301.jpg', 'n302.jpg', 'n303.jpg', 'n304.jpg', 'n305.jpg', 'n306.jpg', 'n308.jpg', 'n309.jpg', 'n31.jpg', 'n310.jpg', 'n311.jpg', 'n312.jpg', 'n313.jpg', 'n314.jpg', 'n315.jpg', 'n32.jpg', 'n321.jpg', 'n322.jpg', 'n323.jpg', 'n324.jpg', 'n325.jpg', 'n326.jpg', 'n327.jpg', 'n328.jpg', 'n329.jpg', 'n33.jpg', 'n330.jpg', 'n331.jpg', 'n332.jpg', 'n333.jpg', 'n334.jpg', 'n335.jpg', 'n336.jpg', 'n337.jpg', 'n338.jpg', 'n339.jpg', 'n34.jpg', 'n340.jpg', 'n341.jpg', 'n342.jpg', 'n343.jpg', 'n344.jpg', 'n345.jpg', 'n346.jpg', 'n347.jpg', 'n348.jpg', 'n349.jpg', 'n35.jpg', 'n350.jpg', 'n351.jpg', 'n352.jpg', 'n353.jpg', 'n354.jpg', 'n355.jpg', 'n356.jpg', 'n357.jpg', 'n358.jpg', 'n359.jpg', 'n36.jpg', 'n360.jpg', 'n361.jpg', 'n362.jpg', 'n363.jpg', 'n365.jpg', 'n366.jpg', 'n367.jpg', 'n368.jpg', 'n369.jpg', 'n37.jpg', 'n370.jpg', 'n371.jpg', 'n372.jpg', 'n373.jpg', 'n374.jpg', 'n375.jpg', 'n376.jpg', 'n377.jpg', 'n378.jpg', 'n379.jpg', 'n38.jpg', 'n380.jpg', 'n381.jpg', 'n382.jpg', 'n383.jpg', 'n384.jpg', 'n385.jpg', 'n386.jpg', 'n387.jpg', 'n388.jpg', 'n389.jpg', 'n39.jpg', 'n390.jpg', 'n391.jpg', 'n392.jpg', 'n393.jpg', 'n394.jpg', 'n395.jpg', 'n396.jpg', 'n397.jpg', 'n398.jpg', 'n399.jpg', 'n4.jpg', 'n40.jpg', 'n400.jpg', 'n401.jpg', 'n402.jpg', 'n403.jpg', 'n404.jpg', 'n405.jpg', 'n406.jpg', 'n407.jpg', 'n408.jpg', 'n409.jpg', 'n41.jpg', 'n410.jpg', 'n411.jpg', 'n412.jpg', 'n413.jpg', 'n414.jpg', 'n415.jpg', 'n416.jpg', 'n417.jpg', 'n418.jpg', 'n419.jpg', 'n42.jpg', 'n420.jpg', 'n421.jpg', 'n422.jpg', 'n423.jpg', 'n424.jpg', 'n425.jpg', 'n426.jpg', 'n427.jpg', 'n428.jpg', 'n429.jpg', 'n43.jpg', 'n430.jpg', 'n431.jpg', 'n432.jpg', 'n433.jpg', 'n434.jpg', 'n435.jpg', 'n436.jpg', 'n437.jpg', 'n438.jpg', 'n439.jpg', 'n44.jpg', 'n440.jpg', 'n441.jpg', 'n442.jpg', 'n443.jpg', 'n444.jpg', 'n445.jpg', 'n446.jpg', 'n447.jpg', 'n448.jpg', 'n449.jpg', 'n45.jpg', 'n450.jpg', 'n451.jpg', 'n452.jpg', 'n453.jpg', 'n454.jpg', 'n455.jpg', 'n456.jpg', 'n457.jpg', 'n458.jpg', 'n459.jpg', 'n46.jpg', 'n460.jpg', 'n461.jpg', 'n462.jpg', 'n463.jpg', 'n464.jpg', 'n465.jpg', 'n466.jpg', 'n467.jpg', 'n468.jpg', 'n469.jpg', 'n47.jpg', 'n470.jpg', 'n471.jpg', 'n472.jpg', 'n473.jpg', 'n474.jpg', 'n475.jpg', 'n476.jpg', 'n477.jpg', 'n478.jpg', 'n479.jpg', 'n48.jpg', 'n480.jpg', 'n481.jpg', 'n482.jpg', 'n483.jpg', 'n484.jpg', 'n485.jpg', 'n486.jpg', 'n487.jpg', 'n488.jpg', 'n489.jpg', 'n49.jpg', 'n490.jpg', 'n491.jpg', 'n492.jpg', 'n493.jpg', 'n494.jpg', 'n495.jpg', 'n496.jpg', 'n497.jpg', 'n498.jpg', 'n499.jpg', 'n5.jpg', 'n50.jpg', 'n500.jpg', 'n501.jpg', 'n502.jpg', 'n503.jpg', 'n504.jpg', 'n505.jpg', 'n506.jpg', 'n507.jpg', 'n508.jpg', 'n509.jpg', 'n51.jpg', 'n510.jpg', 'n511.jpg', 'n512.jpg', 'n513.jpg', 'n514.jpg', 'n515.jpg', 'n516.jpg', 'n517.jpg', 'n518.jpg', 'n519.jpg', 'n52.jpg', 'n520.jpg', 'n521.jpg', 'n522.jpg', 'n523.jpg', 'n524.jpg', 'n525.jpg', 'n526.jpg', 'n528.jpg', 'n529.jpg', 'n53.jpg', 'n530.jpg', 'n531.jpg', 'n532.jpg', 'n533.jpg', 'n534.jpg', 'n535.jpg', 'n536.jpg', 'n537.jpg', 'n538.jpg', 'n539.jpg', 'n54.jpg', 'n540.jpg', 'n541.jpg', 'n542.jpg', 'n543.jpg', 'n545.jpg', 'n546.jpg', 'n547.jpg', 'n548.jpg', 'n549.jpg', 'n55.jpg', 'n550.jpg', 'n551.jpg', 'n552.jpg', 'n555.jpg', 'n556.jpg', 'n557.jpg', 'n558.jpg', 'n559.jpg', 'n56.jpg', 'n560.jpg', 'n561.jpg', 'n562.jpg', 'n563.jpg', 'n564.jpg', 'n565.jpg', 'n566.jpg', 'n567.jpg', 'n568.jpg', 'n569.jpg', 'n57.jpg', 'n570.jpg', 'n571.jpg', 'n572.jpg', 'n573.jpg', 'n574.jpg', 'n575.jpg', 'n576.jpg', 'n577.jpg', 'n578.jpg', 'n579.jpg', 'n58.jpg', 'n580.jpg', 'n581.jpg', 'n582.jpg', 'n583.jpg', 'n584.jpg', 'n585.jpg', 'n586.jpg', 'n587.jpg', 'n588.jpg', 'n589.jpg', 'n59.jpg', 'n590.jpg', 'n591.jpg', 'n592.jpg', 'n593.jpg', 'n594.jpg', 'n595.jpg', 'n596.jpg', 'n597.jpg', 'n598.jpg', 'n599.jpg', 'n6.jpg', 'n60.jpg', 'n600.jpg', 'n601.jpg', 'n602.jpg', 'n603.jpg', 'n604.jpg', 'n605.jpg', 'n606.jpg', 'n607.jpg', 'n608.jpg', 'n609.jpg', 'n61.jpg', 'n610.jpg', 'n611.jpg', 'n612.jpg', 'n613.jpg', 'n614.jpg', 'n615.jpg', 'n616.jpg', 'n617.jpg', 'n618.jpg', 'n619.jpg', 'n62.jpg', 'n620.jpg', 'n621.jpg', 'n622.jpg', 'n623.jpg', 'n624.jpg', 'n625.jpg', 'n626.jpg', 'n627.jpg', 'n628.jpg', 'n629.jpg', 'n63.jpg', 'n630.jpg', 'n631.jpg', 'n632.jpg', 'n633.jpg', 'n634.jpg', 'n635.jpg', 'n636.jpg', 'n637.jpg', 'n639.jpg', 'n64.jpg', 'n640.jpg', 'n641.jpg', 'n642.jpg', 'n643.jpg', 'n644.jpg', 'n645.jpg', 'n646.jpg', 'n647.jpg', 'n648.jpg', 'n649.jpg', 'n65.jpg', 'n650.jpg', 'n651.jpg', 'n652.jpg', 'n653.jpg', 'n654.jpg', 'n655.jpg', 'n656.jpg', 'n657.jpg', 'n658.jpg', 'n659.jpg', 'n66.jpg', 'n660.jpg', 'n661.jpg', 'n662.jpg', 'n663.jpg', 'n664.jpg', 'n665.jpg', 'n666.jpg', 'n667.jpg', 'n668.jpg', 'n669.jpg', 'n67.jpg', 'n670.jpg', 'n671.jpg', 'n672.jpg', 'n673.jpg', 'n674.jpg', 'n675.jpg', 'n676.jpg', 'n677.jpg', 'n678.jpg', 'n679.jpg', 'n68.jpg', 'n680.jpg', 'n681.jpg', 'n682.jpg', 'n683.jpg', 'n684.jpg', 'n685.jpg', 'n686.jpg', 'n687.jpg', 'n688.jpg', 'n689.jpg', 'n69.jpg', 'n690.jpg', 'n691.jpg', 'n692.jpg', 'n693.jpg', 'n694.jpg', 'n695.jpg', 'n696.jpg', 'n697.jpg', 'n698.jpg', 'n699.jpg', 'n7.jpg', 'n70.jpg', 'n700.jpg', 'n701.jpg', 'n702.jpg', 'n703.jpg', 'n704.jpg', 'n705.jpg', 'n706.jpg', 'n707.jpg', 'n708.jpg', 'n709.jpg', 'n710.jpg', 'n711.jpg', 'n712.jpg', 'n713.jpg', 'n714.jpg', 'n715.jpg', 'n716.jpg', 'n717.jpg', 'n718.jpg', 'n719.jpg', 'n72.jpg', 'n720.jpg', 'n721.jpg', 'n722.jpg', 'n723.jpg', 'n724.jpg', 'n725.jpg', 'n726.jpg', 'n727.jpg', 'n728.jpg', 'n729.jpg', 'n73.jpg', 'n730.jpg', 'n731.jpg', 'n732.jpg', 'n733.jpg', 'n734.jpg', 'n735.jpg', 'n736.jpg', 'n737.jpg', 'n738.jpg', 'n739.jpg', 'n74.jpg', 'n740.jpg', 'n741.jpg', 'n742.jpg', 'n743.jpg', 'n744.jpg', 'n745.jpg', 'n746.jpg', 'n747.jpg', 'n748.jpg', 'n749.jpg', 'n75.jpg', 'n750.jpg', 'n751.jpg', 'n752.jpg', 'n753.jpg', 'n754.jpg', 'n755.jpg', 'n756.jpg', 'n757.jpg', 'n758.jpg', 'n759.jpg', 'n76.jpg', 'n760.jpg', 'n761.jpg', 'n762.jpg', 'n763.jpg', 'n764.jpg', 'n765.jpg', 'n766.jpg', 'n767.jpg', 'n768.jpg', 'n769.jpg', 'n77.jpg', 'n770.jpg', 'n771.jpg', 'n772.jpg', 'n773.jpg', 'n774.jpg', 'n775.jpg', 'n776.jpg', 'n777.jpg', 'n778.jpg', 'n779.jpg', 'n78.jpg', 'n780.jpg', 'n781.jpg', 'n782.jpg', 'n783.jpg', 'n784.jpg', 'n785.jpg', 'n786.jpg', 'n787.jpg', 'n789.jpg', 'n79.jpg', 'n790.jpg', 'n791.jpg', 'n792.jpg', 'n793.jpg', 'n794.jpg', 'n795.jpg', 'n796.jpg', 'n797.jpg', 'n798.jpg', 'n799.jpg', 'n8.jpg', 'n80.jpg', 'n800.jpg', 'n81.jpg', 'n82.jpg', 'n83.jpg', 'n88.jpg', 'n89.jpg', 'n9.jpg', 'n90.jpg', 'n91.jpg', 'n92.jpg', 'n93.jpg', 'n94.jpg', 'n95.jpg', 'n96.jpg', 'n97.jpg', 'n98.jpg']\n"
     ]
    }
   ],
   "source": [
    "spiltcocodataset(images_path='./qk_data/data_path/',\n",
    "                 train_path='./qk_data/train.txt',\n",
    "                 val_path='./qk_data/val.txt',\n",
    "                 trainval_path='./qk_data/trainval.txt',\n",
    "                 is_split_ann=True,\n",
    "                 train_ann_path='./qk_data/train_ann.txt',\n",
    "                 val_ann_path='./qk_data/val_ann.txt',\n",
    "                 trainval_ann_path='./qk_data/trainval_ann.txt')"
   ],
   "metadata": {
    "collapsed": false,
    "ExecuteTime": {
     "end_time": "2023-09-03T11:06:58.850143900Z",
     "start_time": "2023-09-03T11:06:58.814813900Z"
    }
   }
  },
  {
   "cell_type": "code",
   "execution_count": 9,
   "outputs": [],
   "source": [
    "# 根据产生的train.txt和val.txt分割数据集\n",
    "def moveds2trainandval(train_path,val_path,train_json_path,val_json_path,\n",
    "                       save_train,save_val,root):\n",
    "    with open(train_path, 'r') as f:\n",
    "        train_list = f.readlines()\n",
    "    with open(val_path, 'r') as f:\n",
    "        val_list = f.readlines()\n",
    "    with open(train_json_path, 'r') as f:\n",
    "        train_json_list = f.readlines()\n",
    "    with open(val_json_path, 'r') as f:\n",
    "        val_json_list = f.readlines()\n",
    "    if not os.path.exists(save_train):\n",
    "        os.makedirs(save_train)\n",
    "    if not os.path.exists(save_val):\n",
    "        os.makedirs(save_val)\n",
    "    print(train_list.__len__())\n",
    "    print(val_list.__len__())\n",
    "    print(train_json_list.__len__())\n",
    "    print(val_json_list.__len__())\n",
    "    for train,train_ann in zip(train_list,train_json_list):\n",
    "        train = train.strip('\\n')\n",
    "        train_ann = train_ann.strip('\\n')\n",
    "        shutil.copy(os.path.join(root,train),save_train)\n",
    "        shutil.copy(os.path.join(root,train_ann),save_train)\n",
    "    for val,val_ann in zip(val_list,val_json_list):\n",
    "        val = val.strip('\\n')\n",
    "        val_ann = val_ann.strip('\\n')\n",
    "        shutil.copy(os.path.join(root,val),save_val)\n",
    "        shutil.copy(os.path.join(root,val_ann),save_val)\n",
    "    "
   ],
   "metadata": {
    "collapsed": false,
    "ExecuteTime": {
     "end_time": "2023-09-03T11:07:17.759801300Z",
     "start_time": "2023-09-03T11:07:17.756793600Z"
    }
   }
  },
  {
   "cell_type": "code",
   "execution_count": 10,
   "outputs": [
    {
     "name": "stdout",
     "output_type": "stream",
     "text": [
      "1102\n",
      "473\n",
      "1102\n",
      "473\n"
     ]
    }
   ],
   "source": [
    "moveds2trainandval(train_path='./qk_data/train.txt',\n",
    "                   val_path='./qk_data/val.txt',\n",
    "                   train_json_path='./qk_data/train_ann.txt',\n",
    "                   val_json_path='./qk_data/val_ann.txt',\n",
    "                   save_train='./qk_data/train/',\n",
    "                   save_val='./qk_data/val/',\n",
    "                     root='./qk_data/data_path/')"
   ],
   "metadata": {
    "collapsed": false,
    "ExecuteTime": {
     "end_time": "2023-09-03T11:07:28.446876200Z",
     "start_time": "2023-09-03T11:07:19.940627800Z"
    }
   }
  },
  {
   "cell_type": "code",
   "execution_count": 14,
   "outputs": [
    {
     "data": {
      "text/plain": "473.0"
     },
     "execution_count": 14,
     "metadata": {},
     "output_type": "execute_result"
    }
   ],
   "source": [
    "os.listdir(path='./qk_data/train/').__len__()\n",
    "os.listdir(path='./qk_data/val/').__len__()/2"
   ],
   "metadata": {
    "collapsed": false,
    "ExecuteTime": {
     "end_time": "2023-09-03T11:09:29.219259100Z",
     "start_time": "2023-09-03T11:09:29.211793300Z"
    }
   }
  }
 ],
 "metadata": {
  "kernelspec": {
   "display_name": "hy-dl",
   "language": "python",
   "name": "python3"
  },
  "language_info": {
   "codemirror_mode": {
    "name": "ipython",
    "version": 3
   },
   "file_extension": ".py",
   "mimetype": "text/x-python",
   "name": "python",
   "nbconvert_exporter": "python",
   "pygments_lexer": "ipython3",
   "version": "3.11.4"
  },
  "orig_nbformat": 4
 },
 "nbformat": 4,
 "nbformat_minor": 2
}
