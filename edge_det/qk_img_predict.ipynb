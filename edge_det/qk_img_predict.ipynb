{
 "cells": [
  {
   "cell_type": "code",
   "execution_count": 3,
   "id": "5e1a8a4fdbb30490",
   "metadata": {
    "ExecuteTime": {
     "end_time": "2023-09-13T10:42:22.926273600Z",
     "start_time": "2023-09-13T10:42:19.788307300Z"
    },
    "collapsed": false
   },
   "outputs": [],
   "source": [
    "import os\n",
    "import time\n",
    "import json\n",
    "os.chdir('d:\\\\qk_maskrcnn_trs\\\\')\n",
    "\n",
    "import numpy as np\n",
    "import pandas as pd\n",
    "from PIL import Image\n",
    "import matplotlib.pyplot as plt\n",
    "import torch\n",
    "from torchvision import transforms\n",
    "import torchvision\n",
    "\n",
    "import import_ipynb\n",
    "from hy_tools.nets_option import create_model\n",
    "from draw_box_utils import draw_objs"
   ]
  },
  {
   "cell_type": "code",
   "execution_count": 1,
   "id": "66d8d0b8c2e5eaad",
   "metadata": {
    "ExecuteTime": {
     "end_time": "2023-09-09T05:07:20.891544700Z",
     "start_time": "2023-09-09T05:07:20.885953400Z"
    },
    "collapsed": false
   },
   "outputs": [],
   "source": [
    "def time_synchronized():\n",
    "    torch.cuda.synchronize() if torch.cuda.is_available() else None\n",
    "    return time.time()\n",
    "\n",
    "\n",
    "def qk_predict(model, img_path, weights_path):\n",
    "    weights_path = weights_path\n",
    "    img_path = img_path\n",
    "    label_json_path = r'D:\\qk_maskrcnn_trs\\melon_qk_indices.json'\n",
    "\n",
    "    # get devices\n",
    "    device = torch.device(\"cuda:0\" if torch.cuda.is_available() else \"cpu\")\n",
    "    print(\"using {} device.\".format(device))\n",
    "\n",
    "\n",
    "    # load train weights\n",
    "    assert os.path.exists(weights_path), \"{} file dose not exist.\".format(weights_path)\n",
    "    weights_dict = torch.load(weights_path, map_location='cpu')\n",
    "    weights_dict = weights_dict[\"model\"] if \"model\" in weights_dict else weights_dict\n",
    "    model.load_state_dict(weights_dict)\n",
    "    model.to(device)\n",
    "\n",
    "    # read class_indict\n",
    "    assert os.path.exists(label_json_path), \"json file {} dose not exist.\".format(label_json_path)\n",
    "    with open(label_json_path, 'r') as json_file:\n",
    "        category_index = json.load(json_file)\n",
    "\n",
    "    # load image\n",
    "    assert os.path.exists(img_path), f\"{img_path} does not exits.\"\n",
    "    original_img = Image.open(img_path).convert('RGB')\n",
    "\n",
    "    # from pil image to tensor, do not normalize image\n",
    "    data_transform = transforms.Compose([transforms.ToTensor()])\n",
    "    img = data_transform(original_img)\n",
    "    # expand batch dimension\n",
    "    img = torch.unsqueeze(img, dim=0)\n",
    "\n",
    "    model.eval()  # 进入验证模式\n",
    "    with torch.no_grad():\n",
    "        # init\n",
    "        img_height, img_width = img.shape[-2:]\n",
    "        init_img = torch.zeros((1, 3, img_height, img_width), device=device)\n",
    "        model(init_img)\n",
    "\n",
    "        t_start = time_synchronized()\n",
    "        predictions = model(img.to(device))[0]\n",
    "        t_end = time_synchronized()\n",
    "        print(\"inference+NMS time: {}\".format(t_end - t_start))\n",
    "\n",
    "        predict_boxes = predictions[\"boxes\"].to(\"cpu\").numpy()\n",
    "        predict_classes = predictions[\"labels\"].to(\"cpu\").numpy()\n",
    "        predict_scores = predictions[\"scores\"].to(\"cpu\").numpy()\n",
    "        predict_mask = predictions[\"masks\"].to(\"cpu\").numpy()\n",
    "        predict_mask = np.squeeze(predict_mask, axis=1)  # [batch, 1, h, w] -> [batch, h, w]\n",
    "    return predictions"
   ]
  },
  {
   "cell_type": "code",
   "execution_count": 4,
   "id": "54d99f608c31deef",
   "metadata": {
    "ExecuteTime": {
     "end_time": "2023-09-06T04:14:36.260902600Z",
     "start_time": "2023-09-06T04:14:36.256898100Z"
    },
    "collapsed": false
   },
   "outputs": [],
   "source": [
    "def non_max_suppression(boxes, scores, threshold):\n",
    "    # 初始化一个空列表来存储最终的非极大抑制结果\n",
    "    keep = torchvision.ops.nms(boxes, scores, iou_threshold=threshold)\n",
    "    return keep"
   ]
  },
  {
   "cell_type": "code",
   "execution_count": 5,
   "id": "3c5158aa5f57b462",
   "metadata": {
    "ExecuteTime": {
     "end_time": "2023-09-06T04:14:36.276424400Z",
     "start_time": "2023-09-06T04:14:36.262908200Z"
    },
    "collapsed": false
   },
   "outputs": [],
   "source": [
    "def filter_draw_bbox(model,img_path, weights_path, iou_threshold, score_threshold, is_filter_shard = True):\n",
    "    predictions = qk_predict(model, img_path, weights_path)\n",
    "    bbox = predictions['boxes']\n",
    "    label = predictions['labels']\n",
    "    socres = predictions['scores']\n",
    "    mask = predictions['masks']\n",
    "    keep = non_max_suppression(bbox, socres, iou_threshold) # 采用nms去过滤一些不好的bbox\n",
    "    # 根据idx获取相应的值\n",
    "    if len(keep) == 0:\n",
    "        pass\n",
    "    b, l, s, m = [], [], [], []\n",
    "    for i in keep:\n",
    "        if socres[i] >= score_threshold:\n",
    "            if is_filter_shard == True:\n",
    "                if bbox[i][0] < 5 or bbox[i][1] < 5 or bbox[i][2] > mask[i].shape[2]-5 or bbox[i][3] > mask[i].shape[1] -5: \n",
    "                    pass\n",
    "                else:\n",
    "                    b.append(bbox[i])\n",
    "                    l.append(label[i])\n",
    "                    s.append(socres[i])\n",
    "                    m.append(mask[i])\n",
    "            else:\n",
    "                b.append(bbox[i])\n",
    "                l.append(label[i])\n",
    "                s.append(socres[i])\n",
    "                m.append(mask[i])\n",
    "    return b, l, s, m"
   ]
  },
  {
   "cell_type": "code",
   "execution_count": 6,
   "id": "98b0a53354966395",
   "metadata": {
    "ExecuteTime": {
     "end_time": "2023-09-06T04:14:36.325073400Z",
     "start_time": "2023-09-06T04:14:36.269423700Z"
    },
    "collapsed": false
   },
   "outputs": [],
   "source": [
    "import cv2\n",
    "def draw_bbox_on_image(img_path, model, weights_path, iou_threshold, score_threshold, save_path=None):\n",
    "    bbox, labels, scores, masks = filter_draw_bbox(model, img_path, weights_path, iou_threshold, score_threshold, is_filter_shard=False)\n",
    "    # print(bbox)\n",
    "    image = cv2.imread(img_path)\n",
    "    model_name = weights_path.split('\\\\')[-2].split('_')[-1]\n",
    "    split_name = img_path.split('\\\\')[-2] + '_' + img_path.split('\\\\')[-1].split('.')[0]\n",
    "    for i, box in enumerate(bbox):\n",
    "        x1, y1, x2, y2 = map(int, box)\n",
    "        if model_name == 'fpn':\n",
    "            cv2.rectangle(image, (x1, y1), (x2, y2), (0, 255, 0), thickness=2)\n",
    "        else:\n",
    "            cv2.rectangle(image, (x1, y1), (x2, y2), (0, 100, 0), thickness=2)\n",
    "        text = 'labels:{0},scores{1:.2f}'.format(labels[i], scores[i])\n",
    "        cv2.putText(image, text, (x1, y1-10), cv2.FONT_HERSHEY_SIMPLEX, 0.6, (0, 255, 0), 1)\n",
    "    if save_path:\n",
    "        if os.path.exists(save_path) is False:\n",
    "            os.makedirs(save_path, exist_ok=True)\n",
    "        image_name = os.path.join(save_path, split_name + '_' +  model_name + '.png')\n",
    "        cv2.imwrite(image_name, image)\n",
    "        print('image({0}) has been saved successed'.format(image_name))\n",
    "    else:\n",
    "        plt.imshow(image)"
   ]
  },
  {
   "cell_type": "code",
   "execution_count": 13,
   "id": "7b598e654260bb9a",
   "metadata": {
    "ExecuteTime": {
     "end_time": "2023-09-06T04:19:41.623109400Z",
     "start_time": "2023-09-06T04:19:41.606853100Z"
    },
    "collapsed": false
   },
   "outputs": [],
   "source": [
    "def save_pred(img_path, model, weights_path, iou_threshold,\n",
    "              score_threshold,save_csv_path = None, save_mask_png_path = None, is_return=False):\n",
    "    i_name = img_path.split('\\\\')[-1].split('.')[0]\n",
    "    dir_namm = img_path.split('\\\\')[-2]\n",
    "    m_name = weights_path.split('\\\\')[-2].split('_')[-1]\n",
    "    file = dir_namm + '_' + i_name + '_' + m_name \n",
    "    # print(file_name)\n",
    "    bbox, labels, scores, masks = filter_draw_bbox(model, img_path, weights_path, iou_threshold, score_threshold)\n",
    "    b = [box.to('cpu').numpy() for box in bbox]\n",
    "    l = [label.to('cpu').numpy() for label in labels]\n",
    "    s = [score.to('cpu').numpy() for score in scores]\n",
    "    m = [mask.to('cpu').numpy() for mask in masks]\n",
    "    df_bbox = pd.DataFrame(b)\n",
    "    if len(b) == 0:\n",
    "        pass\n",
    "    else:\n",
    "        df_bbox.columns = ['x1','y1','x2','y2']\n",
    "        df_label = pd.DataFrame(l)\n",
    "        df_label.columns = ['label']\n",
    "        df_socre = pd.DataFrame(s)\n",
    "        df_socre.columns = ['socre']\n",
    "        df = pd.concat([df_label,df_socre,df_bbox], axis=1)\n",
    "        if save_csv_path:\n",
    "            if os.path.exists(save_csv_path) is False:\n",
    "                os.makedirs(save_csv_path)\n",
    "            file_name = file + '.csv'\n",
    "            save_path_file = os.path.join(save_csv_path,file_name)\n",
    "            df.to_csv(save_path_file, index=False)\n",
    "    if save_mask_png_path:\n",
    "        if os.path.exists(save_mask_png_path) is False:\n",
    "                os.makedirs(save_mask_png_path)\n",
    "        for i, mask in enumerate(m):\n",
    "            mask_T = np.transpose(mask,(1,2,0)) * 255\n",
    "            png_name = file + '_' + str(i) + '.jpg'\n",
    "            png_name_path = os.path.join(save_mask_png_path, png_name)\n",
    "            cv2.imwrite(png_name_path,mask_T)\n",
    "    if is_return == True:\n",
    "        return df, m"
   ]
  }
 ],
 "metadata": {
  "kernelspec": {
   "display_name": "Python 3",
   "language": "python",
   "name": "python3"
  },
  "language_info": {
   "codemirror_mode": {
    "name": "ipython",
    "version": 3
   },
   "file_extension": ".py",
   "mimetype": "text/x-python",
   "name": "python",
   "nbconvert_exporter": "python",
   "pygments_lexer": "ipython3",
   "version": "3.11.4"
  }
 },
 "nbformat": 4,
 "nbformat_minor": 5
}
